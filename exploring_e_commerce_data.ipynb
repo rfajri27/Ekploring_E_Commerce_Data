{
 "cells": [
  {
   "cell_type": "markdown",
   "metadata": {},
   "source": [
    "# Exploring E-Commerce Data\n",
    "\n",
    "Dataset yang digunakan pada project ini merupakan dataset dari salah satu modul project-based yang telah saya selesaikan di DQLab Academy. Project ini menggunakan dataset DQLab Store yang berisi transaksi bulan Januari 2019 hingga Mei 2020, dataset yang digunakan terdiri dari:\n",
    "1. user dataset, berisi detail data pengguna \n",
    "2. products dataset, berisi detail data dari produk yang dijual\n",
    "3. orders dataset, berisi transaksi pembelian dari pembeli ke penjual \n",
    "4. order_details dataset, berisi detail barang yang dibeli saat transaksi"
   ]
  },
  {
   "cell_type": "code",
   "execution_count": 1,
   "metadata": {},
   "outputs": [],
   "source": [
    "import pandas as pd \n",
    "import numpy as np\n",
    "import matplotlib.pyplot as plt"
   ]
  },
  {
   "cell_type": "markdown",
   "metadata": {},
   "source": [
    "## Data Collection"
   ]
  },
  {
   "cell_type": "code",
   "execution_count": 2,
   "metadata": {},
   "outputs": [],
   "source": [
    "user_df = pd.read_csv(\"data/users.csv\", delimiter=';')\n",
    "product_df = pd.read_csv(\"data/products.csv\", delimiter=';')\n",
    "order_df = pd.read_csv(\"data/orders.csv\", delimiter=';')\n",
    "order_detail_df = pd.read_csv(\"data/order_details.csv\", delimiter=';')"
   ]
  },
  {
   "cell_type": "markdown",
   "metadata": {},
   "source": [
    "## Exploring Data\n",
    "### product Dataset"
   ]
  },
  {
   "cell_type": "code",
   "execution_count": 3,
   "metadata": {},
   "outputs": [
    {
     "data": {
      "text/html": [
       "<div>\n",
       "<style scoped>\n",
       "    .dataframe tbody tr th:only-of-type {\n",
       "        vertical-align: middle;\n",
       "    }\n",
       "\n",
       "    .dataframe tbody tr th {\n",
       "        vertical-align: top;\n",
       "    }\n",
       "\n",
       "    .dataframe thead th {\n",
       "        text-align: right;\n",
       "    }\n",
       "</style>\n",
       "<table border=\"1\" class=\"dataframe\">\n",
       "  <thead>\n",
       "    <tr style=\"text-align: right;\">\n",
       "      <th></th>\n",
       "      <th>product_id</th>\n",
       "      <th>desc_product</th>\n",
       "      <th>category</th>\n",
       "      <th>base_price</th>\n",
       "    </tr>\n",
       "  </thead>\n",
       "  <tbody>\n",
       "    <tr>\n",
       "      <th>980</th>\n",
       "      <td>981</td>\n",
       "      <td>Vaseline Intensive Care Lotion Healthy Sunbloc...</td>\n",
       "      <td>Kebersihan Diri</td>\n",
       "      <td>54000</td>\n",
       "    </tr>\n",
       "    <tr>\n",
       "      <th>1098</th>\n",
       "      <td>1099</td>\n",
       "      <td>Love Beauty Planet Body Wash Coconut Water &amp; M...</td>\n",
       "      <td>Kebersihan Diri</td>\n",
       "      <td>51000</td>\n",
       "    </tr>\n",
       "    <tr>\n",
       "      <th>650</th>\n",
       "      <td>651</td>\n",
       "      <td>Alice Spring Ayam Dada Fillet 500g</td>\n",
       "      <td>Fresh Food</td>\n",
       "      <td>41000</td>\n",
       "    </tr>\n",
       "    <tr>\n",
       "      <th>927</th>\n",
       "      <td>928</td>\n",
       "      <td>Lifebuoy Antibacterial Handwash Total 10 180Ml</td>\n",
       "      <td>Kebersihan Diri</td>\n",
       "      <td>14000</td>\n",
       "    </tr>\n",
       "    <tr>\n",
       "      <th>816</th>\n",
       "      <td>817</td>\n",
       "      <td>Hemaviton Energi Drink 150Ml</td>\n",
       "      <td>Minuman Ringan</td>\n",
       "      <td>5000</td>\n",
       "    </tr>\n",
       "  </tbody>\n",
       "</table>\n",
       "</div>"
      ],
      "text/plain": [
       "      product_id                                       desc_product  \\\n",
       "980          981  Vaseline Intensive Care Lotion Healthy Sunbloc...   \n",
       "1098        1099  Love Beauty Planet Body Wash Coconut Water & M...   \n",
       "650          651                Alice Spring Ayam Dada Fillet 500g    \n",
       "927          928    Lifebuoy Antibacterial Handwash Total 10 180Ml    \n",
       "816          817                      Hemaviton Energi Drink 150Ml    \n",
       "\n",
       "             category  base_price  \n",
       "980   Kebersihan Diri       54000  \n",
       "1098  Kebersihan Diri       51000  \n",
       "650        Fresh Food       41000  \n",
       "927   Kebersihan Diri       14000  \n",
       "816    Minuman Ringan        5000  "
      ]
     },
     "execution_count": 3,
     "metadata": {},
     "output_type": "execute_result"
    }
   ],
   "source": [
    "product_df.sample(5)"
   ]
  },
  {
   "cell_type": "markdown",
   "metadata": {},
   "source": [
    "Pada dataset ini terdapat 4 kolom yang terdiri dari:\n",
    "* product_id : ID produk\n",
    "* desc_product : nama produk\n",
    "* category : kategori produk\n",
    "* base_price : harga asli dari produk"
   ]
  },
  {
   "cell_type": "code",
   "execution_count": 4,
   "metadata": {},
   "outputs": [
    {
     "name": "stdout",
     "output_type": "stream",
     "text": [
      "Jumlah missing data tiap kolom:\n",
      " product_id      0\n",
      "desc_product    0\n",
      "category        0\n",
      "base_price      0\n",
      "dtype: int64\n"
     ]
    },
    {
     "data": {
      "text/html": [
       "<div>\n",
       "<style scoped>\n",
       "    .dataframe tbody tr th:only-of-type {\n",
       "        vertical-align: middle;\n",
       "    }\n",
       "\n",
       "    .dataframe tbody tr th {\n",
       "        vertical-align: top;\n",
       "    }\n",
       "\n",
       "    .dataframe thead th {\n",
       "        text-align: right;\n",
       "    }\n",
       "</style>\n",
       "<table border=\"1\" class=\"dataframe\">\n",
       "  <thead>\n",
       "    <tr style=\"text-align: right;\">\n",
       "      <th></th>\n",
       "      <th>product_id</th>\n",
       "      <th>base_price</th>\n",
       "    </tr>\n",
       "  </thead>\n",
       "  <tbody>\n",
       "    <tr>\n",
       "      <th>count</th>\n",
       "      <td>1145.000000</td>\n",
       "      <td>1145.000000</td>\n",
       "    </tr>\n",
       "    <tr>\n",
       "      <th>mean</th>\n",
       "      <td>573.000000</td>\n",
       "      <td>37836.681223</td>\n",
       "    </tr>\n",
       "    <tr>\n",
       "      <th>std</th>\n",
       "      <td>330.677335</td>\n",
       "      <td>46108.477098</td>\n",
       "    </tr>\n",
       "    <tr>\n",
       "      <th>min</th>\n",
       "      <td>1.000000</td>\n",
       "      <td>2000.000000</td>\n",
       "    </tr>\n",
       "    <tr>\n",
       "      <th>25%</th>\n",
       "      <td>287.000000</td>\n",
       "      <td>8000.000000</td>\n",
       "    </tr>\n",
       "    <tr>\n",
       "      <th>50%</th>\n",
       "      <td>573.000000</td>\n",
       "      <td>20000.000000</td>\n",
       "    </tr>\n",
       "    <tr>\n",
       "      <th>75%</th>\n",
       "      <td>859.000000</td>\n",
       "      <td>49000.000000</td>\n",
       "    </tr>\n",
       "    <tr>\n",
       "      <th>max</th>\n",
       "      <td>1145.000000</td>\n",
       "      <td>365000.000000</td>\n",
       "    </tr>\n",
       "  </tbody>\n",
       "</table>\n",
       "</div>"
      ],
      "text/plain": [
       "        product_id     base_price\n",
       "count  1145.000000    1145.000000\n",
       "mean    573.000000   37836.681223\n",
       "std     330.677335   46108.477098\n",
       "min       1.000000    2000.000000\n",
       "25%     287.000000    8000.000000\n",
       "50%     573.000000   20000.000000\n",
       "75%     859.000000   49000.000000\n",
       "max    1145.000000  365000.000000"
      ]
     },
     "execution_count": 4,
     "metadata": {},
     "output_type": "execute_result"
    }
   ],
   "source": [
    "print(\"Jumlah missing data tiap kolom:\\n\", product_df.isna().sum())\n",
    "product_df.describe()"
   ]
  },
  {
   "cell_type": "markdown",
   "metadata": {},
   "source": [
    "#### Jumlah Produk per Kategori \n",
    "Untuk mendapatkan jumlah produk per kategori, dilakukan **grouping** berdasarkan *category* lalu dihitung jumlah produk tiap kategori"
   ]
  },
  {
   "cell_type": "code",
   "execution_count": 5,
   "metadata": {},
   "outputs": [
    {
     "name": "stdout",
     "output_type": "stream",
     "text": [
      "Jumlah produk per kategori: \n",
      " category\n",
      "Kebersihan Diri          434\n",
      "Fresh Food               134\n",
      "Makanan Instan           133\n",
      "Pakaian Pria              98\n",
      "Bahan Makanan             98\n",
      "Minuman Ringan            97\n",
      "Vitamin                   49\n",
      "Pakaian Wanita            49\n",
      "Makanan Kaleng            22\n",
      "Aksesoris Wanita          18\n",
      "Pakaian Muslim Wanita      7\n",
      "Pakaian Tidur Wanita       6\n",
      "Name: product_id, dtype: int64\n"
     ]
    }
   ],
   "source": [
    "sum_produk_per_kategori = product_df.groupby('category').product_id.count().sort_values(ascending=False)\n",
    "print('Jumlah produk per kategori: \\n',sum_produk_per_kategori)"
   ]
  },
  {
   "cell_type": "code",
   "execution_count": 6,
   "metadata": {},
   "outputs": [
    {
     "data": {
      "text/html": [
       "<div>\n",
       "<style scoped>\n",
       "    .dataframe tbody tr th:only-of-type {\n",
       "        vertical-align: middle;\n",
       "    }\n",
       "\n",
       "    .dataframe tbody tr th {\n",
       "        vertical-align: top;\n",
       "    }\n",
       "\n",
       "    .dataframe thead th {\n",
       "        text-align: right;\n",
       "    }\n",
       "</style>\n",
       "<table border=\"1\" class=\"dataframe\">\n",
       "  <thead>\n",
       "    <tr style=\"text-align: right;\">\n",
       "      <th></th>\n",
       "      <th>category</th>\n",
       "      <th>product_id</th>\n",
       "    </tr>\n",
       "  </thead>\n",
       "  <tbody>\n",
       "    <tr>\n",
       "      <th>0</th>\n",
       "      <td>Kebersihan Diri</td>\n",
       "      <td>434</td>\n",
       "    </tr>\n",
       "    <tr>\n",
       "      <th>1</th>\n",
       "      <td>Fresh Food</td>\n",
       "      <td>134</td>\n",
       "    </tr>\n",
       "    <tr>\n",
       "      <th>2</th>\n",
       "      <td>Makanan Instan</td>\n",
       "      <td>133</td>\n",
       "    </tr>\n",
       "    <tr>\n",
       "      <th>3</th>\n",
       "      <td>Pakaian Pria</td>\n",
       "      <td>98</td>\n",
       "    </tr>\n",
       "    <tr>\n",
       "      <th>4</th>\n",
       "      <td>Bahan Makanan</td>\n",
       "      <td>98</td>\n",
       "    </tr>\n",
       "    <tr>\n",
       "      <th>5</th>\n",
       "      <td>Minuman Ringan</td>\n",
       "      <td>97</td>\n",
       "    </tr>\n",
       "    <tr>\n",
       "      <th>6</th>\n",
       "      <td>Vitamin</td>\n",
       "      <td>49</td>\n",
       "    </tr>\n",
       "    <tr>\n",
       "      <th>7</th>\n",
       "      <td>Pakaian Wanita</td>\n",
       "      <td>49</td>\n",
       "    </tr>\n",
       "    <tr>\n",
       "      <th>8</th>\n",
       "      <td>Makanan Kaleng</td>\n",
       "      <td>22</td>\n",
       "    </tr>\n",
       "    <tr>\n",
       "      <th>9</th>\n",
       "      <td>Aksesoris Wanita</td>\n",
       "      <td>18</td>\n",
       "    </tr>\n",
       "    <tr>\n",
       "      <th>10</th>\n",
       "      <td>Pakaian Muslim Wanita</td>\n",
       "      <td>7</td>\n",
       "    </tr>\n",
       "    <tr>\n",
       "      <th>11</th>\n",
       "      <td>Pakaian Tidur Wanita</td>\n",
       "      <td>6</td>\n",
       "    </tr>\n",
       "  </tbody>\n",
       "</table>\n",
       "</div>"
      ],
      "text/plain": [
       "                 category  product_id\n",
       "0         Kebersihan Diri         434\n",
       "1              Fresh Food         134\n",
       "2          Makanan Instan         133\n",
       "3            Pakaian Pria          98\n",
       "4           Bahan Makanan          98\n",
       "5          Minuman Ringan          97\n",
       "6                 Vitamin          49\n",
       "7          Pakaian Wanita          49\n",
       "8          Makanan Kaleng          22\n",
       "9        Aksesoris Wanita          18\n",
       "10  Pakaian Muslim Wanita           7\n",
       "11   Pakaian Tidur Wanita           6"
      ]
     },
     "execution_count": 6,
     "metadata": {},
     "output_type": "execute_result"
    }
   ],
   "source": [
    "sum_produk_per_kategori = sum_produk_per_kategori.reset_index()\n",
    "sum_produk_per_kategori"
   ]
  },
  {
   "cell_type": "code",
   "execution_count": 7,
   "metadata": {},
   "outputs": [
    {
     "data": {
      "text/html": [
       "<div>\n",
       "<style scoped>\n",
       "    .dataframe tbody tr th:only-of-type {\n",
       "        vertical-align: middle;\n",
       "    }\n",
       "\n",
       "    .dataframe tbody tr th {\n",
       "        vertical-align: top;\n",
       "    }\n",
       "\n",
       "    .dataframe thead th {\n",
       "        text-align: right;\n",
       "    }\n",
       "</style>\n",
       "<table border=\"1\" class=\"dataframe\">\n",
       "  <thead>\n",
       "    <tr style=\"text-align: right;\">\n",
       "      <th></th>\n",
       "      <th>category</th>\n",
       "      <th>product_id</th>\n",
       "      <th>top_category</th>\n",
       "    </tr>\n",
       "  </thead>\n",
       "  <tbody>\n",
       "    <tr>\n",
       "      <th>0</th>\n",
       "      <td>Kebersihan Diri</td>\n",
       "      <td>434</td>\n",
       "      <td>Kebersihan Diri</td>\n",
       "    </tr>\n",
       "    <tr>\n",
       "      <th>1</th>\n",
       "      <td>Fresh Food</td>\n",
       "      <td>134</td>\n",
       "      <td>Fresh Food</td>\n",
       "    </tr>\n",
       "    <tr>\n",
       "      <th>2</th>\n",
       "      <td>Makanan Instan</td>\n",
       "      <td>133</td>\n",
       "      <td>Makanan Instan</td>\n",
       "    </tr>\n",
       "    <tr>\n",
       "      <th>3</th>\n",
       "      <td>Pakaian Pria</td>\n",
       "      <td>98</td>\n",
       "      <td>Pakaian Pria</td>\n",
       "    </tr>\n",
       "    <tr>\n",
       "      <th>4</th>\n",
       "      <td>Bahan Makanan</td>\n",
       "      <td>98</td>\n",
       "      <td>Bahan Makanan</td>\n",
       "    </tr>\n",
       "    <tr>\n",
       "      <th>5</th>\n",
       "      <td>Minuman Ringan</td>\n",
       "      <td>97</td>\n",
       "      <td>Minuman Ringan</td>\n",
       "    </tr>\n",
       "    <tr>\n",
       "      <th>6</th>\n",
       "      <td>Vitamin</td>\n",
       "      <td>49</td>\n",
       "      <td>other</td>\n",
       "    </tr>\n",
       "    <tr>\n",
       "      <th>7</th>\n",
       "      <td>Pakaian Wanita</td>\n",
       "      <td>49</td>\n",
       "      <td>other</td>\n",
       "    </tr>\n",
       "    <tr>\n",
       "      <th>8</th>\n",
       "      <td>Makanan Kaleng</td>\n",
       "      <td>22</td>\n",
       "      <td>other</td>\n",
       "    </tr>\n",
       "    <tr>\n",
       "      <th>9</th>\n",
       "      <td>Aksesoris Wanita</td>\n",
       "      <td>18</td>\n",
       "      <td>other</td>\n",
       "    </tr>\n",
       "    <tr>\n",
       "      <th>10</th>\n",
       "      <td>Pakaian Muslim Wanita</td>\n",
       "      <td>7</td>\n",
       "      <td>other</td>\n",
       "    </tr>\n",
       "    <tr>\n",
       "      <th>11</th>\n",
       "      <td>Pakaian Tidur Wanita</td>\n",
       "      <td>6</td>\n",
       "      <td>other</td>\n",
       "    </tr>\n",
       "  </tbody>\n",
       "</table>\n",
       "</div>"
      ],
      "text/plain": [
       "                 category  product_id     top_category\n",
       "0         Kebersihan Diri         434  Kebersihan Diri\n",
       "1              Fresh Food         134       Fresh Food\n",
       "2          Makanan Instan         133   Makanan Instan\n",
       "3            Pakaian Pria          98     Pakaian Pria\n",
       "4           Bahan Makanan          98    Bahan Makanan\n",
       "5          Minuman Ringan          97   Minuman Ringan\n",
       "6                 Vitamin          49            other\n",
       "7          Pakaian Wanita          49            other\n",
       "8          Makanan Kaleng          22            other\n",
       "9        Aksesoris Wanita          18            other\n",
       "10  Pakaian Muslim Wanita           7            other\n",
       "11   Pakaian Tidur Wanita           6            other"
      ]
     },
     "execution_count": 7,
     "metadata": {},
     "output_type": "execute_result"
    }
   ],
   "source": [
    "top_kategori = sum_produk_per_kategori.head(6)\n",
    "sum_produk_per_kategori['top_category'] = sum_produk_per_kategori['category'].apply(lambda x: x if (x in top_kategori['category'].to_list()) else 'other')\n",
    "sum_produk_per_kategori"
   ]
  },
  {
   "cell_type": "code",
   "execution_count": 8,
   "metadata": {},
   "outputs": [
    {
     "data": {
      "image/png": "[encoded data removed]",
      "text/plain": [
       "<Figure size 864x432 with 1 Axes>"
      ]
     },
     "metadata": {
      "needs_background": "light"
     },
     "output_type": "display_data"
    }
   ],
   "source": [
    "plt.figure(figsize=(12, 6))\n",
    "plt.bar(sum_produk_per_kategori['top_category'], \n",
    "        sum_produk_per_kategori['product_id'])\n",
    "plt.xticks(rotation=45, fontsize=15)\n",
    "plt.title(\"Total Product per Category\", loc='center', fontsize=20, pad=20)\n",
    "plt.ylabel(\"Total Product\", fontsize=15)\n",
    "plt.tight_layout()\n",
    "plt.savefig('images/total_product_category.png')\n",
    "plt.show()"
   ]
  },
  {
   "cell_type": "markdown",
   "metadata": {},
   "source": [
    "#### Sepuluh Produk dengan Base Price Termahal "
   ]
  },
  {
   "cell_type": "code",
   "execution_count": 9,
   "metadata": {},
   "outputs": [
    {
     "data": {
      "text/html": [
       "<div>\n",
       "<style scoped>\n",
       "    .dataframe tbody tr th:only-of-type {\n",
       "        vertical-align: middle;\n",
       "    }\n",
       "\n",
       "    .dataframe tbody tr th {\n",
       "        vertical-align: top;\n",
       "    }\n",
       "\n",
       "    .dataframe thead th {\n",
       "        text-align: right;\n",
       "    }\n",
       "</style>\n",
       "<table border=\"1\" class=\"dataframe\">\n",
       "  <thead>\n",
       "    <tr style=\"text-align: right;\">\n",
       "      <th></th>\n",
       "      <th>product_id</th>\n",
       "      <th>desc_product</th>\n",
       "      <th>category</th>\n",
       "      <th>base_price</th>\n",
       "    </tr>\n",
       "  </thead>\n",
       "  <tbody>\n",
       "    <tr>\n",
       "      <th>0</th>\n",
       "      <td>585</td>\n",
       "      <td>Blackmores Bio C 1000mg 150's</td>\n",
       "      <td>Vitamin</td>\n",
       "      <td>365000</td>\n",
       "    </tr>\n",
       "    <tr>\n",
       "      <th>1</th>\n",
       "      <td>719</td>\n",
       "      <td>Mom's Recipe Pudding Tart Square 24X24cm</td>\n",
       "      <td>Fresh Food</td>\n",
       "      <td>325000</td>\n",
       "    </tr>\n",
       "    <tr>\n",
       "      <th>2</th>\n",
       "      <td>590</td>\n",
       "      <td>Blackmores Glucosamine Sulfate 1500 90's</td>\n",
       "      <td>Vitamin</td>\n",
       "      <td>305000</td>\n",
       "    </tr>\n",
       "    <tr>\n",
       "      <th>3</th>\n",
       "      <td>596</td>\n",
       "      <td>Blackmores Pregnancy &amp; Breast-Feeding Gold 120's</td>\n",
       "      <td>Vitamin</td>\n",
       "      <td>295000</td>\n",
       "    </tr>\n",
       "    <tr>\n",
       "      <th>4</th>\n",
       "      <td>718</td>\n",
       "      <td>Mom's Recipe Pudding Tart Square 22X22cm</td>\n",
       "      <td>Fresh Food</td>\n",
       "      <td>285000</td>\n",
       "    </tr>\n",
       "    <tr>\n",
       "      <th>5</th>\n",
       "      <td>132</td>\n",
       "      <td>EMBA LONG PANT FM316</td>\n",
       "      <td>Pakaian Pria</td>\n",
       "      <td>263000</td>\n",
       "    </tr>\n",
       "    <tr>\n",
       "      <th>6</th>\n",
       "      <td>594</td>\n",
       "      <td>Blackmores Odourless Fish Oil 1000 200's</td>\n",
       "      <td>Vitamin</td>\n",
       "      <td>263000</td>\n",
       "    </tr>\n",
       "    <tr>\n",
       "      <th>7</th>\n",
       "      <td>856</td>\n",
       "      <td>Mustika Ratu Hand &amp; Body Spray Nourishng Olive...</td>\n",
       "      <td>Kebersihan Diri</td>\n",
       "      <td>245000</td>\n",
       "    </tr>\n",
       "    <tr>\n",
       "      <th>8</th>\n",
       "      <td>717</td>\n",
       "      <td>Mom's Recipe Pudding Tart Round 20cm</td>\n",
       "      <td>Fresh Food</td>\n",
       "      <td>230000</td>\n",
       "    </tr>\n",
       "    <tr>\n",
       "      <th>9</th>\n",
       "      <td>39</td>\n",
       "      <td>ANNA FAITH LEGGING STRIPE</td>\n",
       "      <td>Pakaian Wanita</td>\n",
       "      <td>225000</td>\n",
       "    </tr>\n",
       "  </tbody>\n",
       "</table>\n",
       "</div>"
      ],
      "text/plain": [
       "   product_id                                       desc_product  \\\n",
       "0         585                     Blackmores Bio C 1000mg 150's    \n",
       "1         719          Mom's Recipe Pudding Tart Square 24X24cm    \n",
       "2         590          Blackmores Glucosamine Sulfate 1500 90's    \n",
       "3         596  Blackmores Pregnancy & Breast-Feeding Gold 120's    \n",
       "4         718          Mom's Recipe Pudding Tart Square 22X22cm    \n",
       "5         132                              EMBA LONG PANT FM316    \n",
       "6         594          Blackmores Odourless Fish Oil 1000 200's    \n",
       "7         856  Mustika Ratu Hand & Body Spray Nourishng Olive...   \n",
       "8         717              Mom's Recipe Pudding Tart Round 20cm    \n",
       "9          39                         ANNA FAITH LEGGING STRIPE    \n",
       "\n",
       "          category  base_price  \n",
       "0          Vitamin      365000  \n",
       "1       Fresh Food      325000  \n",
       "2          Vitamin      305000  \n",
       "3          Vitamin      295000  \n",
       "4       Fresh Food      285000  \n",
       "5     Pakaian Pria      263000  \n",
       "6          Vitamin      263000  \n",
       "7  Kebersihan Diri      245000  \n",
       "8       Fresh Food      230000  \n",
       "9   Pakaian Wanita      225000  "
      ]
     },
     "execution_count": 9,
     "metadata": {},
     "output_type": "execute_result"
    }
   ],
   "source": [
    "produk_termahal = product_df.sort_values('base_price', ascending=False, ignore_index=True).head(10)\n",
    "produk_termahal"
   ]
  },
  {
   "cell_type": "markdown",
   "metadata": {},
   "source": [
    "#### Sepuluh Produk dengan Base Price Termurah"
   ]
  },
  {
   "cell_type": "code",
   "execution_count": 10,
   "metadata": {},
   "outputs": [
    {
     "data": {
      "text/html": [
       "<div>\n",
       "<style scoped>\n",
       "    .dataframe tbody tr th:only-of-type {\n",
       "        vertical-align: middle;\n",
       "    }\n",
       "\n",
       "    .dataframe tbody tr th {\n",
       "        vertical-align: top;\n",
       "    }\n",
       "\n",
       "    .dataframe thead th {\n",
       "        text-align: right;\n",
       "    }\n",
       "</style>\n",
       "<table border=\"1\" class=\"dataframe\">\n",
       "  <thead>\n",
       "    <tr style=\"text-align: right;\">\n",
       "      <th></th>\n",
       "      <th>product_id</th>\n",
       "      <th>desc_product</th>\n",
       "      <th>category</th>\n",
       "      <th>base_price</th>\n",
       "    </tr>\n",
       "  </thead>\n",
       "  <tbody>\n",
       "    <tr>\n",
       "      <th>0</th>\n",
       "      <td>333</td>\n",
       "      <td>Ajinomoto Mie Instant Yum Yum Tomyum Udang 70G</td>\n",
       "      <td>Makanan Instan</td>\n",
       "      <td>2000</td>\n",
       "    </tr>\n",
       "    <tr>\n",
       "      <th>1</th>\n",
       "      <td>317</td>\n",
       "      <td>Indomie Mie Instant Soto Padang 75G</td>\n",
       "      <td>Makanan Instan</td>\n",
       "      <td>2000</td>\n",
       "    </tr>\n",
       "    <tr>\n",
       "      <th>2</th>\n",
       "      <td>318</td>\n",
       "      <td>Indomie Mie Instant Soto Spesial 75G</td>\n",
       "      <td>Makanan Instan</td>\n",
       "      <td>2000</td>\n",
       "    </tr>\n",
       "    <tr>\n",
       "      <th>3</th>\n",
       "      <td>319</td>\n",
       "      <td>Sedaap Mie Instant Ayam Bawang Telur 77G</td>\n",
       "      <td>Makanan Instan</td>\n",
       "      <td>2000</td>\n",
       "    </tr>\n",
       "    <tr>\n",
       "      <th>4</th>\n",
       "      <td>327</td>\n",
       "      <td>3 Ayam Mie Telor Super Kuning 200G</td>\n",
       "      <td>Makanan Instan</td>\n",
       "      <td>2000</td>\n",
       "    </tr>\n",
       "    <tr>\n",
       "      <th>5</th>\n",
       "      <td>66</td>\n",
       "      <td>GAPURA BATIK CRAFT GELANG ETNIK GBC0076</td>\n",
       "      <td>Aksesoris Wanita</td>\n",
       "      <td>2000</td>\n",
       "    </tr>\n",
       "    <tr>\n",
       "      <th>6</th>\n",
       "      <td>332</td>\n",
       "      <td>Abc Mie Rebus Selera Pedas Gulai Ayam Pedas 70G</td>\n",
       "      <td>Makanan Instan</td>\n",
       "      <td>2000</td>\n",
       "    </tr>\n",
       "    <tr>\n",
       "      <th>7</th>\n",
       "      <td>346</td>\n",
       "      <td>Honig Macaroni Elbow 200G</td>\n",
       "      <td>Makanan Instan</td>\n",
       "      <td>2000</td>\n",
       "    </tr>\n",
       "    <tr>\n",
       "      <th>8</th>\n",
       "      <td>350</td>\n",
       "      <td>Indomie Mi Keriting Ayam Panggang 90G</td>\n",
       "      <td>Makanan Instan</td>\n",
       "      <td>2000</td>\n",
       "    </tr>\n",
       "    <tr>\n",
       "      <th>9</th>\n",
       "      <td>911</td>\n",
       "      <td>Citra Sabun Mandi Pencerah Kulit Pearl 70G</td>\n",
       "      <td>Kebersihan Diri</td>\n",
       "      <td>2000</td>\n",
       "    </tr>\n",
       "  </tbody>\n",
       "</table>\n",
       "</div>"
      ],
      "text/plain": [
       "   product_id                                      desc_product  \\\n",
       "0         333   Ajinomoto Mie Instant Yum Yum Tomyum Udang 70G    \n",
       "1         317              Indomie Mie Instant Soto Padang 75G    \n",
       "2         318             Indomie Mie Instant Soto Spesial 75G    \n",
       "3         319         Sedaap Mie Instant Ayam Bawang Telur 77G    \n",
       "4         327               3 Ayam Mie Telor Super Kuning 200G    \n",
       "5          66          GAPURA BATIK CRAFT GELANG ETNIK GBC0076    \n",
       "6         332  Abc Mie Rebus Selera Pedas Gulai Ayam Pedas 70G    \n",
       "7         346                        Honig Macaroni Elbow 200G    \n",
       "8         350            Indomie Mi Keriting Ayam Panggang 90G    \n",
       "9         911       Citra Sabun Mandi Pencerah Kulit Pearl 70G    \n",
       "\n",
       "           category  base_price  \n",
       "0    Makanan Instan        2000  \n",
       "1    Makanan Instan        2000  \n",
       "2    Makanan Instan        2000  \n",
       "3    Makanan Instan        2000  \n",
       "4    Makanan Instan        2000  \n",
       "5  Aksesoris Wanita        2000  \n",
       "6    Makanan Instan        2000  \n",
       "7    Makanan Instan        2000  \n",
       "8    Makanan Instan        2000  \n",
       "9   Kebersihan Diri        2000  "
      ]
     },
     "execution_count": 10,
     "metadata": {},
     "output_type": "execute_result"
    }
   ],
   "source": [
    "produk_termurah = product_df.sort_values('base_price', ascending=True, ignore_index=True).head(10)\n",
    "produk_termurah"
   ]
  },
  {
   "cell_type": "markdown",
   "metadata": {},
   "source": [
    "### user Dataset"
   ]
  },
  {
   "cell_type": "code",
   "execution_count": 11,
   "metadata": {},
   "outputs": [
    {
     "data": {
      "text/html": [
       "<div>\n",
       "<style scoped>\n",
       "    .dataframe tbody tr th:only-of-type {\n",
       "        vertical-align: middle;\n",
       "    }\n",
       "\n",
       "    .dataframe tbody tr th {\n",
       "        vertical-align: top;\n",
       "    }\n",
       "\n",
       "    .dataframe thead th {\n",
       "        text-align: right;\n",
       "    }\n",
       "</style>\n",
       "<table border=\"1\" class=\"dataframe\">\n",
       "  <thead>\n",
       "    <tr style=\"text-align: right;\">\n",
       "      <th></th>\n",
       "      <th>user_id</th>\n",
       "      <th>nama_user</th>\n",
       "      <th>kodepos</th>\n",
       "      <th>email</th>\n",
       "    </tr>\n",
       "  </thead>\n",
       "  <tbody>\n",
       "    <tr>\n",
       "      <th>7529</th>\n",
       "      <td>7530</td>\n",
       "      <td>Jefri Hutasoit, M.M.</td>\n",
       "      <td>19735</td>\n",
       "      <td>jati27@pt.org</td>\n",
       "    </tr>\n",
       "    <tr>\n",
       "      <th>10513</th>\n",
       "      <td>10514</td>\n",
       "      <td>Maryanto Laksmiwati</td>\n",
       "      <td>36720</td>\n",
       "      <td>tirautama@ud.co.id</td>\n",
       "    </tr>\n",
       "    <tr>\n",
       "      <th>16095</th>\n",
       "      <td>16096</td>\n",
       "      <td>Tira Farida, S.H.</td>\n",
       "      <td>80414</td>\n",
       "      <td>bakti98@hotmail.com</td>\n",
       "    </tr>\n",
       "    <tr>\n",
       "      <th>1346</th>\n",
       "      <td>1347</td>\n",
       "      <td>Balamantri Laksita</td>\n",
       "      <td>74322</td>\n",
       "      <td>yusufsinaga@ud.mil.id</td>\n",
       "    </tr>\n",
       "    <tr>\n",
       "      <th>7044</th>\n",
       "      <td>7045</td>\n",
       "      <td>Cakrabuana Nurdiyanti</td>\n",
       "      <td>50371</td>\n",
       "      <td>damar57@pt.biz.id</td>\n",
       "    </tr>\n",
       "  </tbody>\n",
       "</table>\n",
       "</div>"
      ],
      "text/plain": [
       "       user_id              nama_user  kodepos                  email\n",
       "7529      7530   Jefri Hutasoit, M.M.    19735          jati27@pt.org\n",
       "10513    10514    Maryanto Laksmiwati    36720     tirautama@ud.co.id\n",
       "16095    16096      Tira Farida, S.H.    80414    bakti98@hotmail.com\n",
       "1346      1347     Balamantri Laksita    74322  yusufsinaga@ud.mil.id\n",
       "7044      7045  Cakrabuana Nurdiyanti    50371      damar57@pt.biz.id"
      ]
     },
     "execution_count": 11,
     "metadata": {},
     "output_type": "execute_result"
    }
   ],
   "source": [
    "user_df.sample(5)"
   ]
  },
  {
   "cell_type": "markdown",
   "metadata": {},
   "source": [
    "Pada dataset ini terdapat 4 kolom yang terdiri dari:\n",
    "* user_id : ID pengguna\n",
    "* nama_user : nama pengguna\n",
    "* kodepos : kodepos alamat utama dari pengguna\n",
    "* email : email dari pengguna"
   ]
  },
  {
   "cell_type": "code",
   "execution_count": 12,
   "metadata": {},
   "outputs": [
    {
     "name": "stdout",
     "output_type": "stream",
     "text": [
      "Jumlah missing data tiap kolom:\n",
      " user_id      0\n",
      "nama_user    0\n",
      "kodepos      0\n",
      "email        0\n",
      "dtype: int64\n"
     ]
    },
    {
     "data": {
      "text/html": [
       "<div>\n",
       "<style scoped>\n",
       "    .dataframe tbody tr th:only-of-type {\n",
       "        vertical-align: middle;\n",
       "    }\n",
       "\n",
       "    .dataframe tbody tr th {\n",
       "        vertical-align: top;\n",
       "    }\n",
       "\n",
       "    .dataframe thead th {\n",
       "        text-align: right;\n",
       "    }\n",
       "</style>\n",
       "<table border=\"1\" class=\"dataframe\">\n",
       "  <thead>\n",
       "    <tr style=\"text-align: right;\">\n",
       "      <th></th>\n",
       "      <th>user_id</th>\n",
       "      <th>kodepos</th>\n",
       "    </tr>\n",
       "  </thead>\n",
       "  <tbody>\n",
       "    <tr>\n",
       "      <th>count</th>\n",
       "      <td>17936.00000</td>\n",
       "      <td>17936.000000</td>\n",
       "    </tr>\n",
       "    <tr>\n",
       "      <th>mean</th>\n",
       "      <td>8968.50000</td>\n",
       "      <td>49773.144179</td>\n",
       "    </tr>\n",
       "    <tr>\n",
       "      <th>std</th>\n",
       "      <td>5177.82155</td>\n",
       "      <td>28967.078621</td>\n",
       "    </tr>\n",
       "    <tr>\n",
       "      <th>min</th>\n",
       "      <td>1.00000</td>\n",
       "      <td>0.000000</td>\n",
       "    </tr>\n",
       "    <tr>\n",
       "      <th>25%</th>\n",
       "      <td>4484.75000</td>\n",
       "      <td>24606.000000</td>\n",
       "    </tr>\n",
       "    <tr>\n",
       "      <th>50%</th>\n",
       "      <td>8968.50000</td>\n",
       "      <td>49485.000000</td>\n",
       "    </tr>\n",
       "    <tr>\n",
       "      <th>75%</th>\n",
       "      <td>13452.25000</td>\n",
       "      <td>74868.500000</td>\n",
       "    </tr>\n",
       "    <tr>\n",
       "      <th>max</th>\n",
       "      <td>17936.00000</td>\n",
       "      <td>99997.000000</td>\n",
       "    </tr>\n",
       "  </tbody>\n",
       "</table>\n",
       "</div>"
      ],
      "text/plain": [
       "           user_id       kodepos\n",
       "count  17936.00000  17936.000000\n",
       "mean    8968.50000  49773.144179\n",
       "std     5177.82155  28967.078621\n",
       "min        1.00000      0.000000\n",
       "25%     4484.75000  24606.000000\n",
       "50%     8968.50000  49485.000000\n",
       "75%    13452.25000  74868.500000\n",
       "max    17936.00000  99997.000000"
      ]
     },
     "execution_count": 12,
     "metadata": {},
     "output_type": "execute_result"
    }
   ],
   "source": [
    "print(\"Jumlah missing data tiap kolom:\\n\", user_df.isna().sum())\n",
    "user_df.describe()"
   ]
  },
  {
   "cell_type": "markdown",
   "metadata": {},
   "source": [
    "### order Dataset"
   ]
  },
  {
   "cell_type": "code",
   "execution_count": 13,
   "metadata": {},
   "outputs": [
    {
     "data": {
      "text/html": [
       "<div>\n",
       "<style scoped>\n",
       "    .dataframe tbody tr th:only-of-type {\n",
       "        vertical-align: middle;\n",
       "    }\n",
       "\n",
       "    .dataframe tbody tr th {\n",
       "        vertical-align: top;\n",
       "    }\n",
       "\n",
       "    .dataframe thead th {\n",
       "        text-align: right;\n",
       "    }\n",
       "</style>\n",
       "<table border=\"1\" class=\"dataframe\">\n",
       "  <thead>\n",
       "    <tr style=\"text-align: right;\">\n",
       "      <th></th>\n",
       "      <th>order_id</th>\n",
       "      <th>seller_id</th>\n",
       "      <th>buyer_id</th>\n",
       "      <th>kodepos</th>\n",
       "      <th>subtotal</th>\n",
       "      <th>discount</th>\n",
       "      <th>total</th>\n",
       "      <th>created_at</th>\n",
       "      <th>paid_at</th>\n",
       "      <th>delivery_at</th>\n",
       "    </tr>\n",
       "  </thead>\n",
       "  <tbody>\n",
       "    <tr>\n",
       "      <th>44518</th>\n",
       "      <td>297836</td>\n",
       "      <td>22</td>\n",
       "      <td>16799</td>\n",
       "      <td>41516</td>\n",
       "      <td>4561000</td>\n",
       "      <td>0</td>\n",
       "      <td>4561000</td>\n",
       "      <td>2020-04-30</td>\n",
       "      <td>2020-05-03</td>\n",
       "      <td>2020-05-13</td>\n",
       "    </tr>\n",
       "    <tr>\n",
       "      <th>19136</th>\n",
       "      <td>127439</td>\n",
       "      <td>47</td>\n",
       "      <td>8559</td>\n",
       "      <td>14779</td>\n",
       "      <td>3184000</td>\n",
       "      <td>0</td>\n",
       "      <td>3184000</td>\n",
       "      <td>2019-12-22</td>\n",
       "      <td>2020-01-01</td>\n",
       "      <td>2020-01-15</td>\n",
       "    </tr>\n",
       "    <tr>\n",
       "      <th>15394</th>\n",
       "      <td>102287</td>\n",
       "      <td>50</td>\n",
       "      <td>17779</td>\n",
       "      <td>2822</td>\n",
       "      <td>2032000</td>\n",
       "      <td>337500</td>\n",
       "      <td>1694500</td>\n",
       "      <td>2020-05-19</td>\n",
       "      <td>2020-05-30</td>\n",
       "      <td>2020-06-04</td>\n",
       "    </tr>\n",
       "    <tr>\n",
       "      <th>31873</th>\n",
       "      <td>214058</td>\n",
       "      <td>3</td>\n",
       "      <td>414</td>\n",
       "      <td>14636</td>\n",
       "      <td>164000</td>\n",
       "      <td>0</td>\n",
       "      <td>164000</td>\n",
       "      <td>2020-01-18</td>\n",
       "      <td>2020-01-29</td>\n",
       "      <td>2020-02-03</td>\n",
       "    </tr>\n",
       "    <tr>\n",
       "      <th>66833</th>\n",
       "      <td>445304</td>\n",
       "      <td>31</td>\n",
       "      <td>7738</td>\n",
       "      <td>76151</td>\n",
       "      <td>3130000</td>\n",
       "      <td>0</td>\n",
       "      <td>3130000</td>\n",
       "      <td>2020-04-15</td>\n",
       "      <td>2020-04-26</td>\n",
       "      <td>2020-05-08</td>\n",
       "    </tr>\n",
       "  </tbody>\n",
       "</table>\n",
       "</div>"
      ],
      "text/plain": [
       "       order_id  seller_id  buyer_id  kodepos  subtotal  discount    total  \\\n",
       "44518    297836         22     16799    41516   4561000         0  4561000   \n",
       "19136    127439         47      8559    14779   3184000         0  3184000   \n",
       "15394    102287         50     17779     2822   2032000    337500  1694500   \n",
       "31873    214058          3       414    14636    164000         0   164000   \n",
       "66833    445304         31      7738    76151   3130000         0  3130000   \n",
       "\n",
       "       created_at     paid_at delivery_at  \n",
       "44518  2020-04-30  2020-05-03  2020-05-13  \n",
       "19136  2019-12-22  2020-01-01  2020-01-15  \n",
       "15394  2020-05-19  2020-05-30  2020-06-04  \n",
       "31873  2020-01-18  2020-01-29  2020-02-03  \n",
       "66833  2020-04-15  2020-04-26  2020-05-08  "
      ]
     },
     "execution_count": 13,
     "metadata": {},
     "output_type": "execute_result"
    }
   ],
   "source": [
    "order_df.sample(5)"
   ]
  },
  {
   "cell_type": "markdown",
   "metadata": {},
   "source": [
    "Pada dataset ini terdapat 10 kolom yang terdiri dari:\n",
    "* order_id : ID transaksi\n",
    "* seller_id : ID dari pengguna yang menjual\n",
    "* buyer_id : ID dari pengguna yang membeli\n",
    "* kodepos : kodepos alamat pengirimian transaksi (bisa beda dengan alamat utama)\n",
    "* subtotal : total harga barang sebelum diskon\n",
    "* discount : diskon dari transaksi\n",
    "* total : total harga barang setelah dikurangi diskon, yang dibayarkan pembeli\n",
    "* created_at : tanggal transaksi\n",
    "* paid_at : tanggal dibayar\n",
    "* delivery_at : tanggal pengiriman"
   ]
  },
  {
   "cell_type": "code",
   "execution_count": 14,
   "metadata": {},
   "outputs": [
    {
     "name": "stdout",
     "output_type": "stream",
     "text": [
      "Jumlah missing data tiap kolom:\n",
      " order_id          0\n",
      "seller_id         0\n",
      "buyer_id          0\n",
      "kodepos           0\n",
      "subtotal          0\n",
      "discount          0\n",
      "total             0\n",
      "created_at        0\n",
      "paid_at        5046\n",
      "delivery_at    9790\n",
      "dtype: int64\n"
     ]
    },
    {
     "data": {
      "text/html": [
       "<div>\n",
       "<style scoped>\n",
       "    .dataframe tbody tr th:only-of-type {\n",
       "        vertical-align: middle;\n",
       "    }\n",
       "\n",
       "    .dataframe tbody tr th {\n",
       "        vertical-align: top;\n",
       "    }\n",
       "\n",
       "    .dataframe thead th {\n",
       "        text-align: right;\n",
       "    }\n",
       "</style>\n",
       "<table border=\"1\" class=\"dataframe\">\n",
       "  <thead>\n",
       "    <tr style=\"text-align: right;\">\n",
       "      <th></th>\n",
       "      <th>order_id</th>\n",
       "      <th>seller_id</th>\n",
       "      <th>buyer_id</th>\n",
       "      <th>kodepos</th>\n",
       "      <th>subtotal</th>\n",
       "      <th>discount</th>\n",
       "      <th>total</th>\n",
       "    </tr>\n",
       "  </thead>\n",
       "  <tbody>\n",
       "    <tr>\n",
       "      <th>count</th>\n",
       "      <td>74874.000000</td>\n",
       "      <td>74874.000000</td>\n",
       "      <td>74874.000000</td>\n",
       "      <td>74874.000000</td>\n",
       "      <td>7.487400e+04</td>\n",
       "      <td>7.487400e+04</td>\n",
       "      <td>7.487400e+04</td>\n",
       "    </tr>\n",
       "    <tr>\n",
       "      <th>mean</th>\n",
       "      <td>249966.290194</td>\n",
       "      <td>34.964808</td>\n",
       "      <td>8989.472941</td>\n",
       "      <td>50130.240805</td>\n",
       "      <td>2.006208e+06</td>\n",
       "      <td>1.621004e+04</td>\n",
       "      <td>1.988183e+06</td>\n",
       "    </tr>\n",
       "    <tr>\n",
       "      <th>std</th>\n",
       "      <td>144065.798238</td>\n",
       "      <td>19.907566</td>\n",
       "      <td>5169.815577</td>\n",
       "      <td>28899.309837</td>\n",
       "      <td>2.605957e+06</td>\n",
       "      <td>1.092113e+05</td>\n",
       "      <td>2.583434e+06</td>\n",
       "    </tr>\n",
       "    <tr>\n",
       "      <th>min</th>\n",
       "      <td>3.000000</td>\n",
       "      <td>1.000000</td>\n",
       "      <td>1.000000</td>\n",
       "      <td>0.000000</td>\n",
       "      <td>2.000000e+03</td>\n",
       "      <td>0.000000e+00</td>\n",
       "      <td>1.700000e+03</td>\n",
       "    </tr>\n",
       "    <tr>\n",
       "      <th>25%</th>\n",
       "      <td>124587.000000</td>\n",
       "      <td>18.000000</td>\n",
       "      <td>4524.000000</td>\n",
       "      <td>25131.000000</td>\n",
       "      <td>3.420000e+05</td>\n",
       "      <td>0.000000e+00</td>\n",
       "      <td>3.400000e+05</td>\n",
       "    </tr>\n",
       "    <tr>\n",
       "      <th>50%</th>\n",
       "      <td>250715.000000</td>\n",
       "      <td>35.000000</td>\n",
       "      <td>8994.000000</td>\n",
       "      <td>50002.000000</td>\n",
       "      <td>1.050000e+06</td>\n",
       "      <td>0.000000e+00</td>\n",
       "      <td>1.038000e+06</td>\n",
       "    </tr>\n",
       "    <tr>\n",
       "      <th>75%</th>\n",
       "      <td>374152.000000</td>\n",
       "      <td>52.000000</td>\n",
       "      <td>13477.000000</td>\n",
       "      <td>75258.000000</td>\n",
       "      <td>2.658000e+06</td>\n",
       "      <td>0.000000e+00</td>\n",
       "      <td>2.636000e+06</td>\n",
       "    </tr>\n",
       "    <tr>\n",
       "      <th>max</th>\n",
       "      <td>498783.000000</td>\n",
       "      <td>69.000000</td>\n",
       "      <td>17936.000000</td>\n",
       "      <td>99997.000000</td>\n",
       "      <td>3.611400e+07</td>\n",
       "      <td>4.602000e+06</td>\n",
       "      <td>3.611400e+07</td>\n",
       "    </tr>\n",
       "  </tbody>\n",
       "</table>\n",
       "</div>"
      ],
      "text/plain": [
       "            order_id     seller_id      buyer_id       kodepos      subtotal  \\\n",
       "count   74874.000000  74874.000000  74874.000000  74874.000000  7.487400e+04   \n",
       "mean   249966.290194     34.964808   8989.472941  50130.240805  2.006208e+06   \n",
       "std    144065.798238     19.907566   5169.815577  28899.309837  2.605957e+06   \n",
       "min         3.000000      1.000000      1.000000      0.000000  2.000000e+03   \n",
       "25%    124587.000000     18.000000   4524.000000  25131.000000  3.420000e+05   \n",
       "50%    250715.000000     35.000000   8994.000000  50002.000000  1.050000e+06   \n",
       "75%    374152.000000     52.000000  13477.000000  75258.000000  2.658000e+06   \n",
       "max    498783.000000     69.000000  17936.000000  99997.000000  3.611400e+07   \n",
       "\n",
       "           discount         total  \n",
       "count  7.487400e+04  7.487400e+04  \n",
       "mean   1.621004e+04  1.988183e+06  \n",
       "std    1.092113e+05  2.583434e+06  \n",
       "min    0.000000e+00  1.700000e+03  \n",
       "25%    0.000000e+00  3.400000e+05  \n",
       "50%    0.000000e+00  1.038000e+06  \n",
       "75%    0.000000e+00  2.636000e+06  \n",
       "max    4.602000e+06  3.611400e+07  "
      ]
     },
     "execution_count": 14,
     "metadata": {},
     "output_type": "execute_result"
    }
   ],
   "source": [
    "print(\"Jumlah missing data tiap kolom:\\n\", order_df.isna().sum())\n",
    "order_df.describe()"
   ]
  },
  {
   "cell_type": "markdown",
   "metadata": {},
   "source": [
    "Pada dataset ini terdapat nilai **NaN** pada kolom *paid_at* dan kolom *delivery_at*, nilai tersebut dapat dipahami sebagai transaksi yang tidak sempurna."
   ]
  },
  {
   "cell_type": "code",
   "execution_count": 15,
   "metadata": {},
   "outputs": [
    {
     "name": "stdout",
     "output_type": "stream",
     "text": [
      "<class 'pandas.core.frame.DataFrame'>\n",
      "RangeIndex: 74874 entries, 0 to 74873\n",
      "Data columns (total 10 columns):\n",
      " #   Column       Non-Null Count  Dtype         \n",
      "---  ------       --------------  -----         \n",
      " 0   order_id     74874 non-null  int64         \n",
      " 1   seller_id    74874 non-null  int64         \n",
      " 2   buyer_id     74874 non-null  int64         \n",
      " 3   kodepos      74874 non-null  int64         \n",
      " 4   subtotal     74874 non-null  int64         \n",
      " 5   discount     74874 non-null  int64         \n",
      " 6   total        74874 non-null  int64         \n",
      " 7   created_at   74874 non-null  datetime64[ns]\n",
      " 8   paid_at      69828 non-null  datetime64[ns]\n",
      " 9   delivery_at  65084 non-null  datetime64[ns]\n",
      "dtypes: datetime64[ns](3), int64(7)\n",
      "memory usage: 5.7 MB\n"
     ]
    }
   ],
   "source": [
    "# Merubah format kolom yang berisi tanggal menjadi format datetime\n",
    "\n",
    "order_df['created_at'] = pd.to_datetime(order_df['created_at'])\n",
    "order_df['delivery_at'] = pd.to_datetime(order_df['delivery_at'])\n",
    "order_df['paid_at'] = pd.to_datetime(order_df['paid_at'])\n",
    "order_df.info()"
   ]
  },
  {
   "cell_type": "markdown",
   "metadata": {},
   "source": [
    "#### Jumlah Transaksi per Bulan\n",
    "Untuk memperoleh jumlah transaksi per bulan, dilakukan perubahan frekuensi data dari frekuensi harian (daily) menjadi frekuensi bulanan (monthly) dan menghitung jumlah order tiap bulan."
   ]
  },
  {
   "cell_type": "code",
   "execution_count": 16,
   "metadata": {},
   "outputs": [
    {
     "name": "stdout",
     "output_type": "stream",
     "text": [
      "Jumlah transaksi per bulan: \n",
      " created_at\n",
      "2019-01      117\n",
      "2019-02      354\n",
      "2019-03      668\n",
      "2019-04      984\n",
      "2019-05     1462\n",
      "2019-06     1913\n",
      "2019-07     2667\n",
      "2019-08     3274\n",
      "2019-09     4327\n",
      "2019-10     5577\n",
      "2019-11     7162\n",
      "2019-12    10131\n",
      "2020-01     5062\n",
      "2020-02     5872\n",
      "2020-03     7323\n",
      "2020-04     7955\n",
      "2020-05    10026\n",
      "Name: order_id, dtype: int64\n"
     ]
    }
   ],
   "source": [
    "transaksi_bulanan = order_df.resample('M', on='created_at').order_id.count()\n",
    "transaksi_bulanan.index = transaksi_bulanan.index.strftime('%Y-%m')\n",
    "print('Jumlah transaksi per bulan: \\n', transaksi_bulanan)"
   ]
  },
  {
   "cell_type": "code",
   "execution_count": 17,
   "metadata": {},
   "outputs": [],
   "source": [
    "transaksi_bulanan = transaksi_bulanan.reset_index()"
   ]
  },
  {
   "cell_type": "code",
   "execution_count": 18,
   "metadata": {},
   "outputs": [
    {
     "data": {
      "image/png": "[encoded data removed]",
      "text/plain": [
       "<Figure size 864x432 with 1 Axes>"
      ]
     },
     "metadata": {
      "needs_background": "light"
     },
     "output_type": "display_data"
    }
   ],
   "source": [
    "plt.figure(figsize=(12, 6))\n",
    "plt.plot(transaksi_bulanan['created_at'],\n",
    "        transaksi_bulanan['order_id'],\n",
    "        marker='o', linewidth=2)\n",
    "plt.title('Monthly Order on Jan 2019 - Mei 2020', loc='center', pad=20, fontsize=20)\n",
    "plt.ylabel('Total Order (in Thousands)', fontsize=15)\n",
    "plt.grid(color='darkgray', linestyle=':', linewidth=0.5)\n",
    "labels, locations = plt.yticks()\n",
    "plt.yticks(labels, (labels/1000).astype(int))\n",
    "plt.xticks(rotation=45)\n",
    "plt.tight_layout()\n",
    "plt.savefig('images/monthly_order.png')\n",
    "plt.show()"
   ]
  },
  {
   "cell_type": "markdown",
   "metadata": {},
   "source": [
    "#### Status Transaksi\n",
    "* Jumlah transaksi yang tidak dibayar"
   ]
  },
  {
   "cell_type": "code",
   "execution_count": 19,
   "metadata": {},
   "outputs": [
    {
     "name": "stdout",
     "output_type": "stream",
     "text": [
      "Jumlah transaksi yang tidak dibayar : 5046\n"
     ]
    }
   ],
   "source": [
    "jumlah_tidak_bayar = order_df['paid_at'].isna().sum()\n",
    "print(\"Jumlah transaksi yang tidak dibayar :\", jumlah_tidak_bayar)"
   ]
  },
  {
   "cell_type": "markdown",
   "metadata": {},
   "source": [
    "* Jumlah transaksi yang tidak dikirim, baik yang sudah dibayar maupun belum dibayar"
   ]
  },
  {
   "cell_type": "code",
   "execution_count": 20,
   "metadata": {},
   "outputs": [
    {
     "name": "stdout",
     "output_type": "stream",
     "text": [
      "Jumlah transaksi yang tidak dikirim : 9790\n"
     ]
    }
   ],
   "source": [
    "jumlah_tidak_kirim = order_df['delivery_at'].isna().sum()\n",
    "print(\"Jumlah transaksi yang tidak dikirim :\", jumlah_tidak_kirim)"
   ]
  },
  {
   "cell_type": "markdown",
   "metadata": {},
   "source": [
    "* Jumlah transaksi yang sudah dibayar tapi tidak dikirim"
   ]
  },
  {
   "cell_type": "code",
   "execution_count": 21,
   "metadata": {},
   "outputs": [
    {
     "name": "stdout",
     "output_type": "stream",
     "text": [
      "Jumlah transaksi yang sudah dibayar tapi tidak dikirim : 4744\n"
     ]
    }
   ],
   "source": [
    "index_filter = order_df['paid_at'].notna() & order_df['delivery_at'].isna()\n",
    "jumlah_bayar_tidak_kirim = order_df.loc[index_filter, 'order_id'].count()\n",
    "\n",
    "print(\"Jumlah transaksi yang sudah dibayar tapi tidak dikirim :\", jumlah_bayar_tidak_kirim)"
   ]
  },
  {
   "cell_type": "markdown",
   "metadata": {},
   "source": [
    "* Jumlah transaksi yang dikirim pada hari yang sama dengan tanggal bayar"
   ]
  },
  {
   "cell_type": "code",
   "execution_count": 22,
   "metadata": {},
   "outputs": [
    {
     "name": "stdout",
     "output_type": "stream",
     "text": [
      "Jumlah transaksi yang dikirim pada hari yang sama dengan tanggal bayar : 4588\n"
     ]
    }
   ],
   "source": [
    "index_filter = order_df['paid_at'] == order_df['delivery_at']\n",
    "jumlah = order_df.loc[index_filter, 'order_id'].count()\n",
    "\n",
    "print(\"Jumlah transaksi yang dikirim pada hari yang sama dengan tanggal bayar :\", jumlah)"
   ]
  },
  {
   "cell_type": "markdown",
   "metadata": {},
   "source": [
    "#### Status User\n",
    "* Jumlah seluruh user"
   ]
  },
  {
   "cell_type": "code",
   "execution_count": 23,
   "metadata": {},
   "outputs": [
    {
     "name": "stdout",
     "output_type": "stream",
     "text": [
      "Jumlah seluruh user:  17936\n"
     ]
    }
   ],
   "source": [
    "jumlah_user = user_df['user_id'].nunique()\n",
    "print(\"Jumlah seluruh user: \", jumlah_user)"
   ]
  },
  {
   "cell_type": "markdown",
   "metadata": {},
   "source": [
    "* Jumlah user yang pernah bertransaksi sebagai buyer"
   ]
  },
  {
   "cell_type": "code",
   "execution_count": 24,
   "metadata": {},
   "outputs": [
    {
     "name": "stdout",
     "output_type": "stream",
     "text": [
      "Jumlah user yang pernah bertransaksi sebagai buyer:  17877\n"
     ]
    }
   ],
   "source": [
    "jumlah_buyer = order_df['buyer_id'].nunique()\n",
    "print(\"Jumlah user yang pernah bertransaksi sebagai buyer: \", jumlah_buyer)"
   ]
  },
  {
   "cell_type": "markdown",
   "metadata": {},
   "source": [
    "* Jumlah user yang pernah bertransaksi sebagai seller"
   ]
  },
  {
   "cell_type": "code",
   "execution_count": 25,
   "metadata": {},
   "outputs": [
    {
     "name": "stdout",
     "output_type": "stream",
     "text": [
      "Jumlah user yang pernah bertransaksi sebagai seller:  69\n"
     ]
    }
   ],
   "source": [
    "jumlah_seller = order_df['seller_id'].nunique()\n",
    "print(\"Jumlah user yang pernah bertransaksi sebagai seller: \", jumlah_seller)"
   ]
  },
  {
   "cell_type": "markdown",
   "metadata": {},
   "source": [
    "* Jumlah user yang pernah bertransaksi sebagai seller & buyyer"
   ]
  },
  {
   "cell_type": "code",
   "execution_count": 26,
   "metadata": {},
   "outputs": [
    {
     "name": "stdout",
     "output_type": "stream",
     "text": [
      "Jumlah user yang pernah bertransaksi sebagai seller & buyyer:  69\n"
     ]
    }
   ],
   "source": [
    "id_buyyer = order_df['buyer_id'].unique()\n",
    "idx = order_df['seller_id'].isin(id_buyyer)\n",
    "jumla_buyer_seller = order_df.loc[idx, 'seller_id'].nunique()\n",
    "print(\"Jumlah user yang pernah bertransaksi sebagai seller & buyyer: \", jumla_buyer_seller)"
   ]
  },
  {
   "cell_type": "markdown",
   "metadata": {},
   "source": [
    "* Jumlah user yang belum pernah bertransaksi"
   ]
  },
  {
   "cell_type": "code",
   "execution_count": 27,
   "metadata": {},
   "outputs": [
    {
     "name": "stdout",
     "output_type": "stream",
     "text": [
      "Jumlah user yang belum pernah bertransaksi:  59\n"
     ]
    }
   ],
   "source": [
    "id_seller = order_df['seller_id'].unique()\n",
    "id_buyyer_seller = np.append(id_buyyer, id_seller)\n",
    "idx = ~user_df['user_id'].isin(id_buyyer_seller) \n",
    "jumlah_user_nonaktif = user_df.loc[idx, 'user_id'].nunique()\n",
    "print(\"Jumlah user yang belum pernah bertransaksi: \", jumlah_user_nonaktif)"
   ]
  },
  {
   "cell_type": "markdown",
   "metadata": {},
   "source": [
    "### order_detail Dataset"
   ]
  },
  {
   "cell_type": "code",
   "execution_count": 28,
   "metadata": {},
   "outputs": [
    {
     "data": {
      "text/html": [
       "<div>\n",
       "<style scoped>\n",
       "    .dataframe tbody tr th:only-of-type {\n",
       "        vertical-align: middle;\n",
       "    }\n",
       "\n",
       "    .dataframe tbody tr th {\n",
       "        vertical-align: top;\n",
       "    }\n",
       "\n",
       "    .dataframe thead th {\n",
       "        text-align: right;\n",
       "    }\n",
       "</style>\n",
       "<table border=\"1\" class=\"dataframe\">\n",
       "  <thead>\n",
       "    <tr style=\"text-align: right;\">\n",
       "      <th></th>\n",
       "      <th>order_detail_id</th>\n",
       "      <th>order_id</th>\n",
       "      <th>product_id</th>\n",
       "      <th>price</th>\n",
       "      <th>quantity</th>\n",
       "    </tr>\n",
       "  </thead>\n",
       "  <tbody>\n",
       "    <tr>\n",
       "      <th>37561</th>\n",
       "      <td>358250</td>\n",
       "      <td>100137</td>\n",
       "      <td>29</td>\n",
       "      <td>43000</td>\n",
       "      <td>2</td>\n",
       "    </tr>\n",
       "    <tr>\n",
       "      <th>28576</th>\n",
       "      <td>271211</td>\n",
       "      <td>75697</td>\n",
       "      <td>510</td>\n",
       "      <td>12000</td>\n",
       "      <td>21</td>\n",
       "    </tr>\n",
       "    <tr>\n",
       "      <th>135414</th>\n",
       "      <td>1294265</td>\n",
       "      <td>360919</td>\n",
       "      <td>947</td>\n",
       "      <td>4000</td>\n",
       "      <td>2</td>\n",
       "    </tr>\n",
       "    <tr>\n",
       "      <th>180165</th>\n",
       "      <td>1720409</td>\n",
       "      <td>479556</td>\n",
       "      <td>1099</td>\n",
       "      <td>51000</td>\n",
       "      <td>26</td>\n",
       "    </tr>\n",
       "    <tr>\n",
       "      <th>110423</th>\n",
       "      <td>1059616</td>\n",
       "      <td>295698</td>\n",
       "      <td>324</td>\n",
       "      <td>4000</td>\n",
       "      <td>19</td>\n",
       "    </tr>\n",
       "  </tbody>\n",
       "</table>\n",
       "</div>"
      ],
      "text/plain": [
       "        order_detail_id  order_id  product_id  price  quantity\n",
       "37561            358250    100137          29  43000         2\n",
       "28576            271211     75697         510  12000        21\n",
       "135414          1294265    360919         947   4000         2\n",
       "180165          1720409    479556        1099  51000        26\n",
       "110423          1059616    295698         324   4000        19"
      ]
     },
     "execution_count": 28,
     "metadata": {},
     "output_type": "execute_result"
    }
   ],
   "source": [
    "order_detail_df.sample(5)"
   ]
  },
  {
   "cell_type": "markdown",
   "metadata": {},
   "source": [
    "Pada dataset ini terdapat 5 kolom yang terdiri dari:\n",
    "* order_detail_id : ID table ini\n",
    "* order_id : ID dari transaksi\n",
    "* product_id : ID dari masing-masing produk transaksi\n",
    "* price : harga barang masing-masing produk\n",
    "* quantity : jumlah barang yang dibeli dari masing-masing produk"
   ]
  },
  {
   "cell_type": "code",
   "execution_count": 29,
   "metadata": {},
   "outputs": [
    {
     "name": "stdout",
     "output_type": "stream",
     "text": [
      "Jumlah missing data tiap kolom:\n",
      " order_detail_id    0\n",
      "order_id           0\n",
      "product_id         0\n",
      "price              0\n",
      "quantity           0\n",
      "dtype: int64\n"
     ]
    },
    {
     "data": {
      "text/html": [
       "<div>\n",
       "<style scoped>\n",
       "    .dataframe tbody tr th:only-of-type {\n",
       "        vertical-align: middle;\n",
       "    }\n",
       "\n",
       "    .dataframe tbody tr th {\n",
       "        vertical-align: top;\n",
       "    }\n",
       "\n",
       "    .dataframe thead th {\n",
       "        text-align: right;\n",
       "    }\n",
       "</style>\n",
       "<table border=\"1\" class=\"dataframe\">\n",
       "  <thead>\n",
       "    <tr style=\"text-align: right;\">\n",
       "      <th></th>\n",
       "      <th>order_detail_id</th>\n",
       "      <th>order_id</th>\n",
       "      <th>product_id</th>\n",
       "      <th>price</th>\n",
       "      <th>quantity</th>\n",
       "    </tr>\n",
       "  </thead>\n",
       "  <tbody>\n",
       "    <tr>\n",
       "      <th>count</th>\n",
       "      <td>1.874520e+05</td>\n",
       "      <td>187452.000000</td>\n",
       "      <td>187452.000000</td>\n",
       "      <td>187452.000000</td>\n",
       "      <td>187452.000000</td>\n",
       "    </tr>\n",
       "    <tr>\n",
       "      <th>mean</th>\n",
       "      <td>8.971103e+05</td>\n",
       "      <td>250250.740920</td>\n",
       "      <td>576.543729</td>\n",
       "      <td>37391.508226</td>\n",
       "      <td>21.472249</td>\n",
       "    </tr>\n",
       "    <tr>\n",
       "      <th>std</th>\n",
       "      <td>5.164502e+05</td>\n",
       "      <td>143957.840873</td>\n",
       "      <td>329.594746</td>\n",
       "      <td>45662.642083</td>\n",
       "      <td>12.113271</td>\n",
       "    </tr>\n",
       "    <tr>\n",
       "      <th>min</th>\n",
       "      <td>5.000000e+00</td>\n",
       "      <td>3.000000</td>\n",
       "      <td>1.000000</td>\n",
       "      <td>2000.000000</td>\n",
       "      <td>1.000000</td>\n",
       "    </tr>\n",
       "    <tr>\n",
       "      <th>25%</th>\n",
       "      <td>4.469048e+05</td>\n",
       "      <td>124963.000000</td>\n",
       "      <td>288.000000</td>\n",
       "      <td>8000.000000</td>\n",
       "      <td>11.000000</td>\n",
       "    </tr>\n",
       "    <tr>\n",
       "      <th>50%</th>\n",
       "      <td>8.995105e+05</td>\n",
       "      <td>250970.000000</td>\n",
       "      <td>581.000000</td>\n",
       "      <td>20000.000000</td>\n",
       "      <td>21.000000</td>\n",
       "    </tr>\n",
       "    <tr>\n",
       "      <th>75%</th>\n",
       "      <td>1.342075e+06</td>\n",
       "      <td>374239.750000</td>\n",
       "      <td>861.000000</td>\n",
       "      <td>48000.000000</td>\n",
       "      <td>32.000000</td>\n",
       "    </tr>\n",
       "    <tr>\n",
       "      <th>max</th>\n",
       "      <td>1.789270e+06</td>\n",
       "      <td>498783.000000</td>\n",
       "      <td>1145.000000</td>\n",
       "      <td>365000.000000</td>\n",
       "      <td>42.000000</td>\n",
       "    </tr>\n",
       "  </tbody>\n",
       "</table>\n",
       "</div>"
      ],
      "text/plain": [
       "       order_detail_id       order_id     product_id          price  \\\n",
       "count     1.874520e+05  187452.000000  187452.000000  187452.000000   \n",
       "mean      8.971103e+05  250250.740920     576.543729   37391.508226   \n",
       "std       5.164502e+05  143957.840873     329.594746   45662.642083   \n",
       "min       5.000000e+00       3.000000       1.000000    2000.000000   \n",
       "25%       4.469048e+05  124963.000000     288.000000    8000.000000   \n",
       "50%       8.995105e+05  250970.000000     581.000000   20000.000000   \n",
       "75%       1.342075e+06  374239.750000     861.000000   48000.000000   \n",
       "max       1.789270e+06  498783.000000    1145.000000  365000.000000   \n",
       "\n",
       "            quantity  \n",
       "count  187452.000000  \n",
       "mean       21.472249  \n",
       "std        12.113271  \n",
       "min         1.000000  \n",
       "25%        11.000000  \n",
       "50%        21.000000  \n",
       "75%        32.000000  \n",
       "max        42.000000  "
      ]
     },
     "execution_count": 29,
     "metadata": {},
     "output_type": "execute_result"
    }
   ],
   "source": [
    "print(\"Jumlah missing data tiap kolom:\\n\", order_detail_df.isna().sum())\n",
    "order_detail_df.describe()"
   ]
  },
  {
   "cell_type": "markdown",
   "metadata": {},
   "source": [
    "#### Sepuluh Produk Terlaris\n",
    "Untuk memperoleh 10 produk terlalris, dilakukan **grouping** berdasarkan *product_id* lalu dihitung jumlah *quantity* order."
   ]
  },
  {
   "cell_type": "code",
   "execution_count": 30,
   "metadata": {},
   "outputs": [
    {
     "data": {
      "text/html": [
       "<div>\n",
       "<style scoped>\n",
       "    .dataframe tbody tr th:only-of-type {\n",
       "        vertical-align: middle;\n",
       "    }\n",
       "\n",
       "    .dataframe tbody tr th {\n",
       "        vertical-align: top;\n",
       "    }\n",
       "\n",
       "    .dataframe thead th {\n",
       "        text-align: right;\n",
       "    }\n",
       "</style>\n",
       "<table border=\"1\" class=\"dataframe\">\n",
       "  <thead>\n",
       "    <tr style=\"text-align: right;\">\n",
       "      <th></th>\n",
       "      <th>quantity</th>\n",
       "      <th>desc_product</th>\n",
       "      <th>category</th>\n",
       "    </tr>\n",
       "    <tr>\n",
       "      <th>product_id</th>\n",
       "      <th></th>\n",
       "      <th></th>\n",
       "      <th></th>\n",
       "    </tr>\n",
       "  </thead>\n",
       "  <tbody>\n",
       "    <tr>\n",
       "      <th>983</th>\n",
       "      <td>6270</td>\n",
       "      <td>Vaseline Lotion Healthy White Uv Lightening 20...</td>\n",
       "      <td>Kebersihan Diri</td>\n",
       "    </tr>\n",
       "    <tr>\n",
       "      <th>166</th>\n",
       "      <td>6119</td>\n",
       "      <td>RIDER CELANA ACTIVE WEAR 3IN1 R315B</td>\n",
       "      <td>Pakaian Pria</td>\n",
       "    </tr>\n",
       "    <tr>\n",
       "      <th>805</th>\n",
       "      <td>5867</td>\n",
       "      <td>Big Soft Drink Strawberry 3.1L</td>\n",
       "      <td>Minuman Ringan</td>\n",
       "    </tr>\n",
       "    <tr>\n",
       "      <th>532</th>\n",
       "      <td>5849</td>\n",
       "      <td>Formula Pasta Gigi + Sikat Gigi Sparkling Whit...</td>\n",
       "      <td>Kebersihan Diri</td>\n",
       "    </tr>\n",
       "    <tr>\n",
       "      <th>41</th>\n",
       "      <td>5775</td>\n",
       "      <td>LEGGING WORLD JEGGING LW 11</td>\n",
       "      <td>Pakaian Wanita</td>\n",
       "    </tr>\n",
       "    <tr>\n",
       "      <th>162</th>\n",
       "      <td>5715</td>\n",
       "      <td>RIDER CELANA SUPER RIDER R321B</td>\n",
       "      <td>Pakaian Pria</td>\n",
       "    </tr>\n",
       "    <tr>\n",
       "      <th>529</th>\n",
       "      <td>5689</td>\n",
       "      <td>Fit-U-Mask Masker Anak 5'S</td>\n",
       "      <td>Kebersihan Diri</td>\n",
       "    </tr>\n",
       "    <tr>\n",
       "      <th>594</th>\n",
       "      <td>5674</td>\n",
       "      <td>Blackmores Odourless Fish Oil 1000 200's</td>\n",
       "      <td>Vitamin</td>\n",
       "    </tr>\n",
       "    <tr>\n",
       "      <th>868</th>\n",
       "      <td>5662</td>\n",
       "      <td>Ultra Hand Sanitizer Spray 100Ml</td>\n",
       "      <td>Kebersihan Diri</td>\n",
       "    </tr>\n",
       "    <tr>\n",
       "      <th>253</th>\n",
       "      <td>5541</td>\n",
       "      <td>Ajinomoto Bumbu Nasi Goreng Sajiku Ayam 20G</td>\n",
       "      <td>Bahan Makanan</td>\n",
       "    </tr>\n",
       "  </tbody>\n",
       "</table>\n",
       "</div>"
      ],
      "text/plain": [
       "            quantity                                       desc_product  \\\n",
       "product_id                                                                \n",
       "983             6270  Vaseline Lotion Healthy White Uv Lightening 20...   \n",
       "166             6119               RIDER CELANA ACTIVE WEAR 3IN1 R315B    \n",
       "805             5867                    Big Soft Drink Strawberry 3.1L    \n",
       "532             5849  Formula Pasta Gigi + Sikat Gigi Sparkling Whit...   \n",
       "41              5775                      LEGGING WORLD JEGGING LW 11     \n",
       "162             5715                    RIDER CELANA SUPER RIDER R321B    \n",
       "529             5689                        Fit-U-Mask Masker Anak 5'S    \n",
       "594             5674          Blackmores Odourless Fish Oil 1000 200's    \n",
       "868             5662                  Ultra Hand Sanitizer Spray 100Ml    \n",
       "253             5541       Ajinomoto Bumbu Nasi Goreng Sajiku Ayam 20G    \n",
       "\n",
       "                   category  \n",
       "product_id                   \n",
       "983         Kebersihan Diri  \n",
       "166            Pakaian Pria  \n",
       "805          Minuman Ringan  \n",
       "532         Kebersihan Diri  \n",
       "41           Pakaian Wanita  \n",
       "162            Pakaian Pria  \n",
       "529         Kebersihan Diri  \n",
       "594                 Vitamin  \n",
       "868         Kebersihan Diri  \n",
       "253           Bahan Makanan  "
      ]
     },
     "execution_count": 30,
     "metadata": {},
     "output_type": "execute_result"
    }
   ],
   "source": [
    "produk_terlaris_df = order_detail_df.groupby('product_id').agg({\n",
    "    'quantity' : 'sum'\n",
    "})\n",
    "produk_terlaris_df = produk_terlaris_df.sort_values('quantity', ascending=False)\n",
    "\n",
    "id_produk_terlaris = np.array(produk_terlaris_df.index)\n",
    "\n",
    "index_filter = product_df['product_id'].isin(id_produk_terlaris)\n",
    "produk_terlaris = product_df.loc[index_filter, 'product_id':'category'].reset_index(drop=True)\n",
    "\n",
    "produk_terlaris = produk_terlaris_df.join(produk_terlaris.set_index('product_id'))\n",
    "produk_terlaris.head(10)"
   ]
  },
  {
   "cell_type": "markdown",
   "metadata": {},
   "source": [
    "#### Jumlah Transaksi per Kategori"
   ]
  },
  {
   "cell_type": "code",
   "execution_count": 31,
   "metadata": {},
   "outputs": [
    {
     "data": {
      "text/html": [
       "<div>\n",
       "<style scoped>\n",
       "    .dataframe tbody tr th:only-of-type {\n",
       "        vertical-align: middle;\n",
       "    }\n",
       "\n",
       "    .dataframe tbody tr th {\n",
       "        vertical-align: top;\n",
       "    }\n",
       "\n",
       "    .dataframe thead th {\n",
       "        text-align: right;\n",
       "    }\n",
       "</style>\n",
       "<table border=\"1\" class=\"dataframe\">\n",
       "  <thead>\n",
       "    <tr style=\"text-align: right;\">\n",
       "      <th></th>\n",
       "      <th>top_category</th>\n",
       "      <th>quantity</th>\n",
       "    </tr>\n",
       "  </thead>\n",
       "  <tbody>\n",
       "    <tr>\n",
       "      <th>0</th>\n",
       "      <td>Bahan Makanan</td>\n",
       "      <td>358630</td>\n",
       "    </tr>\n",
       "    <tr>\n",
       "      <th>1</th>\n",
       "      <td>Fresh Food</td>\n",
       "      <td>481716</td>\n",
       "    </tr>\n",
       "    <tr>\n",
       "      <th>2</th>\n",
       "      <td>Kebersihan Diri</td>\n",
       "      <td>1529986</td>\n",
       "    </tr>\n",
       "    <tr>\n",
       "      <th>3</th>\n",
       "      <td>Makanan Instan</td>\n",
       "      <td>452330</td>\n",
       "    </tr>\n",
       "    <tr>\n",
       "      <th>4</th>\n",
       "      <td>Minuman Ringan</td>\n",
       "      <td>349591</td>\n",
       "    </tr>\n",
       "    <tr>\n",
       "      <th>5</th>\n",
       "      <td>Pakaian Pria</td>\n",
       "      <td>329232</td>\n",
       "    </tr>\n",
       "    <tr>\n",
       "      <th>6</th>\n",
       "      <td>other</td>\n",
       "      <td>523531</td>\n",
       "    </tr>\n",
       "  </tbody>\n",
       "</table>\n",
       "</div>"
      ],
      "text/plain": [
       "      top_category  quantity\n",
       "0    Bahan Makanan    358630\n",
       "1       Fresh Food    481716\n",
       "2  Kebersihan Diri   1529986\n",
       "3   Makanan Instan    452330\n",
       "4   Minuman Ringan    349591\n",
       "5     Pakaian Pria    329232\n",
       "6            other    523531"
      ]
     },
     "execution_count": 31,
     "metadata": {},
     "output_type": "execute_result"
    }
   ],
   "source": [
    "sum_order_per_kategori = produk_terlaris\n",
    "sum_order_per_kategori['top_category'] = sum_order_per_kategori['category'].apply(lambda x: x if (x in top_kategori['category'].to_list()) else 'other')\n",
    "sum_order_per_kategori = produk_terlaris.groupby('top_category')['quantity'].sum().reset_index()\n",
    "sum_order_per_kategori"
   ]
  },
  {
   "cell_type": "code",
   "execution_count": 32,
   "metadata": {
    "scrolled": true
   },
   "outputs": [
    {
     "data": {
      "image/png": "[encoded data removed]",
      "text/plain": [
       "<Figure size 864x432 with 1 Axes>"
      ]
     },
     "metadata": {
      "needs_background": "light"
     },
     "output_type": "display_data"
    }
   ],
   "source": [
    "plt.figure(figsize=(12, 6))\n",
    "plt.bar(sum_order_per_kategori['top_category'], \n",
    "        sum_order_per_kategori['quantity'])\n",
    "plt.xticks(rotation=45, fontsize=15)\n",
    "labels, locations = plt.yticks()\n",
    "plt.yticks(labels, (labels/1000000).astype(float))\n",
    "plt.title(\"Total Quantity Orders per Category\", loc='center', fontsize=20, pad=20)\n",
    "plt.ylabel(\"Total Quantity Orders (in Millions)\", fontsize=15)\n",
    "plt.tight_layout()\n",
    "plt.savefig('images/order_amount_category.png')\n",
    "plt.show()"
   ]
  },
  {
   "cell_type": "code",
   "execution_count": null,
   "metadata": {},
   "outputs": [],
   "source": []
  }
 ],
 "metadata": {
  "hide_input": false,
  "kernelspec": {
   "display_name": "Python 3",
   "language": "python",
   "name": "python3"
  },
  "language_info": {
   "codemirror_mode": {
    "name": "ipython",
    "version": 3
   },
   "file_extension": ".py",
   "mimetype": "text/x-python",
   "name": "python",
   "nbconvert_exporter": "python",
   "pygments_lexer": "ipython3",
   "version": "3.8.5"
  },
  "nbTranslate": {
   "displayLangs": [
    "*"
   ],
   "hotkey": "alt-t",
   "langInMainMenu": true,
   "sourceLang": "en",
   "targetLang": "fr",
   "useGoogleTranslate": true
  },
  "toc": {
   "base_numbering": 1,
   "nav_menu": {},
   "number_sections": true,
   "sideBar": true,
   "skip_h1_title": false,
   "title_cell": "Table of Contents",
   "title_sidebar": "Contents",
   "toc_cell": false,
   "toc_position": {},
   "toc_section_display": true,
   "toc_window_display": false
  },
  "varInspector": {
   "cols": {
    "lenName": 16,
    "lenType": 16,
    "lenVar": 40
   },
   "kernels_config": {
    "python": {
     "delete_cmd_postfix": "",
     "delete_cmd_prefix": "del ",
     "library": "var_list.py",
     "varRefreshCmd": "print(var_dic_list())"
    },
    "r": {
     "delete_cmd_postfix": ") ",
     "delete_cmd_prefix": "rm(",
     "library": "var_list.r",
     "varRefreshCmd": "cat(var_dic_list()) "
    }
   },
   "types_to_exclude": [
    "module",
    "function",
    "builtin_function_or_method",
    "instance",
    "_Feature"
   ],
   "window_display": false
  }
 },
 "nbformat": 4,
 "nbformat_minor": 4
}
